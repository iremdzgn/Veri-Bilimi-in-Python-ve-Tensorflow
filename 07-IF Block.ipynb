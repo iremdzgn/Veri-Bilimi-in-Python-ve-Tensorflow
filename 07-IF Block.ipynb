{
 "cells": [
  {
   "cell_type": "code",
   "execution_count": 1,
   "metadata": {},
   "outputs": [
    {
     "data": {
      "text/plain": [
       "True"
      ]
     },
     "execution_count": 1,
     "metadata": {},
     "output_type": "execute_result"
    }
   ],
   "source": [
    "3 > 1"
   ]
  },
  {
   "cell_type": "code",
   "execution_count": 4,
   "metadata": {},
   "outputs": [
    {
     "name": "stdout",
     "output_type": "stream",
     "text": [
      "irem düzgün\n"
     ]
    }
   ],
   "source": [
    "if 3 >1:\n",
    "    print(\"irem düzgün\")\n",
    "    "
   ]
  },
  {
   "cell_type": "code",
   "execution_count": 8,
   "metadata": {},
   "outputs": [
    {
     "name": "stdout",
     "output_type": "stream",
     "text": [
      "if koşlunun dışına çıktık\n"
     ]
    }
   ],
   "source": [
    "if 3 >4:\n",
    "    print(\"irem düzgün\")\n",
    "    print(\"if koşulu sağlandı\")\n",
    "print(\"if koşlunun dışına çıktık\")"
   ]
  },
  {
   "cell_type": "code",
   "execution_count": 13,
   "metadata": {},
   "outputs": [],
   "source": [
    "x = 4\n",
    "y = 4"
   ]
  },
  {
   "cell_type": "code",
   "execution_count": 14,
   "metadata": {},
   "outputs": [
    {
     "name": "stdout",
     "output_type": "stream",
     "text": [
      "x ve y birbirine eşittir.\n"
     ]
    }
   ],
   "source": [
    "if x >  y :\n",
    "    print(\"x  y'den daha büyüktür.\")\n",
    "elif y > x:\n",
    "    print(\"y x'ten daha büyüktür.\")\n",
    "else:\n",
    "    print(\"x ve y birbirine eşittir.\")\n",
    "    "
   ]
  },
  {
   "cell_type": "code",
   "execution_count": 25,
   "metadata": {},
   "outputs": [
    {
     "name": "stdout",
     "output_type": "stream",
     "text": [
      "Super kahraman seciniz: irem\n"
     ]
    }
   ],
   "source": [
    "myHero = input(\"Super kahraman seciniz: \" )"
   ]
  },
  {
   "cell_type": "code",
   "execution_count": 26,
   "metadata": {},
   "outputs": [
    {
     "name": "stdout",
     "output_type": "stream",
     "text": [
      "kim oldugunu bilemedik\n"
     ]
    }
   ],
   "source": [
    "if myHero == \"spiderman\":\n",
    "    print(\"spiderman 'i seçtiniz tebrikler'\")\n",
    "elif myHero ==\"batman\":\n",
    "    print(\"keşke spiderman'ı seçseydiniz\")\n",
    "elif myHero == \"ironman\":\n",
    "    print(\"ironman kimdir?\")\n",
    "else:\n",
    "    print(\"kim oldugunu bilemedik\")"
   ]
  },
  {
   "cell_type": "code",
   "execution_count": 29,
   "metadata": {},
   "outputs": [],
   "source": [
    "a = 10\n",
    "b = 20\n",
    "c = 20"
   ]
  },
  {
   "cell_type": "code",
   "execution_count": 30,
   "metadata": {},
   "outputs": [
    {
     "name": "stdout",
     "output_type": "stream",
     "text": [
      "koşullar sağlanamadı\n"
     ]
    }
   ],
   "source": [
    "if a  > b and b  >  c:\n",
    "    print ( \"a b'den büyük VE b'de c'den büyük. \")\n",
    "elif a < b and b < c:\n",
    "    print(\"a, b'den küçük VE b'de c'den küçük\")\n",
    "else:\n",
    "    print(\"koşullar sağlanamadı\")"
   ]
  },
  {
   "cell_type": "raw",
   "metadata": {},
   "source": [
    "m =6\n",
    "k = 4\n",
    "l = 5"
   ]
  },
  {
   "cell_type": "code",
   "execution_count": null,
   "metadata": {},
   "outputs": [],
   "source": []
  },
  {
   "cell_type": "raw",
   "metadata": {},
   "source": []
  },
  {
   "cell_type": "code",
   "execution_count": 34,
   "metadata": {},
   "outputs": [
    {
     "name": "stdout",
     "output_type": "stream",
     "text": [
      "bu çalıştırılacak mı?\n"
     ]
    }
   ],
   "source": [
    "if m > k or k > l:\n",
    "    print (\"bu çalıştırılacak mı?\")"
   ]
  },
  {
   "cell_type": "code",
   "execution_count": 41,
   "metadata": {},
   "outputs": [],
   "source": [
    "karakterCanli = False"
   ]
  },
  {
   "cell_type": "code",
   "execution_count": 42,
   "metadata": {},
   "outputs": [
    {
     "name": "stdout",
     "output_type": "stream",
     "text": [
      "oyun karakteriniz yaşamıyor.\n"
     ]
    }
   ],
   "source": [
    "if karakterCanli == True:\n",
    "    print(\"oyun karakteriniz yaşıyor.\")\n",
    "else:\n",
    "    print(\"oyun karakteriniz yaşamıyor.\")"
   ]
  },
  {
   "cell_type": "code",
   "execution_count": 43,
   "metadata": {},
   "outputs": [
    {
     "name": "stdout",
     "output_type": "stream",
     "text": [
      "oyun karakteriniz yaşamıyor.\n"
     ]
    }
   ],
   "source": [
    "if karakterCanli :\n",
    "    print(\"oyun karakteriniz yaşıyor.\")\n",
    "else:\n",
    "    print(\"oyun karakteriniz yaşamıyor.\")"
   ]
  },
  {
   "cell_type": "code",
   "execution_count": 44,
   "metadata": {},
   "outputs": [
    {
     "name": "stdout",
     "output_type": "stream",
     "text": [
      "karakter canlı değil\n"
     ]
    }
   ],
   "source": [
    "if not karakterCanli:\n",
    "    print(\"karakter canlı değil\")"
   ]
  },
  {
   "cell_type": "code",
   "execution_count": 45,
   "metadata": {},
   "outputs": [],
   "source": [
    "myString = \"İrem Düzgün\""
   ]
  },
  {
   "cell_type": "code",
   "execution_count": 47,
   "metadata": {},
   "outputs": [
    {
     "name": "stdout",
     "output_type": "stream",
     "text": [
      "eşittir\n"
     ]
    }
   ],
   "source": [
    "if myString == \"İrem Düzgün\":\n",
    "    print(\"eşittir\")\n",
    "else:\n",
    "    print(\"eşit değildir\")"
   ]
  },
  {
   "cell_type": "code",
   "execution_count": 48,
   "metadata": {},
   "outputs": [
    {
     "name": "stdout",
     "output_type": "stream",
     "text": [
      "vardır\n"
     ]
    }
   ],
   "source": [
    "if \"Düzgün\" in myString:\n",
    "    print(\"vardır\")\n",
    "else:\n",
    "    print(\"yoktur\")"
   ]
  },
  {
   "cell_type": "code",
   "execution_count": null,
   "metadata": {},
   "outputs": [],
   "source": []
  }
 ],
 "metadata": {
  "kernelspec": {
   "display_name": "Python 3",
   "language": "python",
   "name": "python3"
  },
  "language_info": {
   "codemirror_mode": {
    "name": "ipython",
    "version": 3
   },
   "file_extension": ".py",
   "mimetype": "text/x-python",
   "name": "python",
   "nbconvert_exporter": "python",
   "pygments_lexer": "ipython3",
   "version": "3.8.5"
  }
 },
 "nbformat": 4,
 "nbformat_minor": 4
}
