{
 "cells": [
  {
   "cell_type": "markdown",
   "metadata": {},
   "source": [
    "# Tensorflow"
   ]
  },
  {
   "cell_type": "markdown",
   "metadata": {},
   "source": [
    "### Google tarafından açık kaynaklı olarak geliştirilen kütüphanedir."
   ]
  },
  {
   "cell_type": "markdown",
   "metadata": {},
   "source": [
    "## Perceptron"
   ]
  },
  {
   "cell_type": "markdown",
   "metadata": {},
   "source": [
    "#### Aldığı girdileri çıktıya dönüştüren yapıdır"
   ]
  },
  {
   "cell_type": "code",
   "execution_count": 1,
   "metadata": {},
   "outputs": [],
   "source": [
    "# Bias: hataların önüne geçmek için kullanılan değişken(hata terimi gibi)"
   ]
  },
  {
   "cell_type": "markdown",
   "metadata": {},
   "source": [
    "## Activation Functions"
   ]
  },
  {
   "cell_type": "markdown",
   "metadata": {},
   "source": [
    "### Sigmoid Fonksiyonu\n",
    "#### 0 ile 1 arasında değer alır.\n",
    "#### Genelde sınıflandırma problemlerimizde işe yarar."
   ]
  },
  {
   "cell_type": "markdown",
   "metadata": {},
   "source": [
    "### Tanh(Hiperbolik Tanjant) Fonksiyonu\n",
    "#### -1 ile 1 arasında değer alır.\n",
    "#### Negatif değerlerle daha geniş bir kapsam sağlar ve genelde sınıflandırma operasyonlarında kullanılır."
   ]
  },
  {
   "cell_type": "markdown",
   "metadata": {},
   "source": [
    "### ReLU(Rectified Linear Unit)\n",
    "#### 0 ile sonsuz arasında değer alır.\n",
    "#### Derin Öğrenme alanında sıklıkla karşımıza çıkar."
   ]
  },
  {
   "cell_type": "markdown",
   "metadata": {},
   "source": [
    "### Linear Fonksiyonlar\n",
    "#### f(x) = x\n",
    "#### Sonsuz değer alabilir fakat non-linear olmaması sebebiyle modellerde sorunlara yol açabilir."
   ]
  },
  {
   "cell_type": "markdown",
   "metadata": {},
   "source": [
    "## Regration"
   ]
  },
  {
   "cell_type": "markdown",
   "metadata": {},
   "source": [
    "#### İki veya daha çok veri arasındaki doğrusal ilişkinin fonksiyonel şeklini, biri bağımlı diğeri bağımsız değişken olarak doğru denklemi olarak göstermekle kalmaz, değişkenlerden birinin değeri bilindiğinde diğeri hakkında kestirim yapılmasını sağlar."
   ]
  },
  {
   "cell_type": "markdown",
   "metadata": {},
   "source": [
    "## Maliyet Fonksiyonu\n",
    "### Öğrenme süresince bize yardımcı olur, gerçek veriden ne kadar uzakta olduğumuzu ölçer.\n",
    "#### z= a*g +b\n",
    "#### f(z) tahminiDeger(nöron'un tahmini)\n",
    "#### Quadratic Maliyet = sum(gercekDeger-tahminiDeger)**2/n\n",
    "#### Cross Entropy Maliyet = (-1/n) * sum(gercekDeger * ln(tahminiDeger) + (1-gercekDeger) * ln(1-tahminiDeger)"
   ]
  },
  {
   "cell_type": "markdown",
   "metadata": {},
   "source": [
    "## Gradient Descent\n",
    "#### Bir fonksiyonun minimumunu bulmak için kullandığımız optimizasyon fonksiyonu\n",
    "#### maliyet fonksiyonunu minimize etmek için kullanılır.\n",
    "#### Aşağı inerken ne kadar hızlı veya yavaş inebileceğimizi seçebiliriz(step size). Bu aslında öğrenme seviyemizle aynı anlama gelir. Minimuma hızlı ulaşmak için optimizasyonlar kullanabiliriz.\n",
    "#### Popüler seçenekler: RMSProp,Adam"
   ]
  },
  {
   "cell_type": "code",
   "execution_count": null,
   "metadata": {},
   "outputs": [],
   "source": []
  }
 ],
 "metadata": {
  "kernelspec": {
   "display_name": "Python 3",
   "language": "python",
   "name": "python3"
  },
  "language_info": {
   "codemirror_mode": {
    "name": "ipython",
    "version": 3
   },
   "file_extension": ".py",
   "mimetype": "text/x-python",
   "name": "python",
   "nbconvert_exporter": "python",
   "pygments_lexer": "ipython3",
   "version": "3.8.5"
  }
 },
 "nbformat": 4,
 "nbformat_minor": 4
}
